{
 "cells": [
  {
   "cell_type": "code",
   "execution_count": null,
   "metadata": {},
   "outputs": [],
   "source": [
    "# # Business problem 💼\n",
    "\n",
    "# Let's create a predictive model to forecast the number of taxi rides that will happen in Manhattan (New York City)\n",
    "\n",
    "# - in the next hour\n",
    "# - for each taxi zone (e.g. Zone 113 \"Lower Manhattan)\n",
    "\n",
    "# Let's do it in 6 steps ↓\n",
    "# # "
   ]
  },
  {
   "cell_type": "code",
   "execution_count": null,
   "metadata": {},
   "outputs": [],
   "source": []
  }
 ],
 "metadata": {
  "language_info": {
   "name": "python"
  }
 },
 "nbformat": 4,
 "nbformat_minor": 2
}
